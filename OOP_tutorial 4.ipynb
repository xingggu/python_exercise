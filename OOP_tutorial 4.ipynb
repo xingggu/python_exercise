{
 "cells": [
  {
   "cell_type": "markdown",
   "metadata": {},
   "source": [
    "## Class Atrributes"
   ]
  },
  {
   "cell_type": "code",
   "execution_count": 1,
   "metadata": {},
   "outputs": [],
   "source": [
    "class Circle:\n",
    "    def __init__(self,radius):\n",
    "        self.pi = 3.14159\n",
    "        self.radius = radius\n",
    "\n",
    "    def area(self):\n",
    "        return self.pi * self.radius**2\n",
    "\n",
    "    def cirumference(self):\n",
    "        return 2*self.pi*self.radius\n",
    "\n",
    "        "
   ]
  },
  {
   "cell_type": "code",
   "execution_count": 2,
   "metadata": {},
   "outputs": [
    {
     "name": "stdout",
     "output_type": "stream",
     "text": [
      "3.14159\n"
     ]
    },
    {
     "ename": "AttributeError",
     "evalue": "type object 'Circle' has no attribute 'pi'",
     "output_type": "error",
     "traceback": [
      "\u001b[1;31m---------------------------------------------------------------------------\u001b[0m",
      "\u001b[1;31mAttributeError\u001b[0m                            Traceback (most recent call last)",
      "Cell \u001b[1;32mIn[2], line 3\u001b[0m\n\u001b[0;32m      1\u001b[0m c \u001b[39m=\u001b[39m Circle(\u001b[39m10\u001b[39m)\n\u001b[0;32m      2\u001b[0m \u001b[39mprint\u001b[39m(c\u001b[39m.\u001b[39mpi)\n\u001b[1;32m----> 3\u001b[0m \u001b[39mprint\u001b[39m(Circle\u001b[39m.\u001b[39mpi)\n",
      "\u001b[1;31mAttributeError\u001b[0m: type object 'Circle' has no attribute 'pi'"
     ]
    }
   ],
   "source": [
    "c = Circle(10)\n",
    "print(c.pi)\n",
    "print(Circle.pi)"
   ]
  },
  {
   "cell_type": "markdown",
   "metadata": {},
   "source": [
    "`pi` and `radius` are *instance attributes*. They belong toa specific instance of the `Circle`. "
   ]
  },
  {
   "cell_type": "code",
   "execution_count": 5,
   "metadata": {},
   "outputs": [],
   "source": [
    "class class_Circle:\n",
    "    pi = 3.14159\n",
    "\n",
    "    def __init__(self,radius):\n",
    "        self.radius = radius\n",
    "    \n",
    "    def area(self):\n",
    "        return self.pi * self.radius**2\n",
    "\n",
    "    def cirumference(self):\n",
    "        return 2 * self.pi * self.radius\n",
    "        "
   ]
  },
  {
   "cell_type": "markdown",
   "metadata": {},
   "source": [
    "1. Storing class constants"
   ]
  },
  {
   "cell_type": "code",
   "execution_count": 8,
   "metadata": {},
   "outputs": [
    {
     "name": "stdout",
     "output_type": "stream",
     "text": [
      "3.14159\n",
      "3.14159\n"
     ]
    }
   ],
   "source": [
    "c = class_Circle(10)\n",
    "print(c.pi)\n",
    "print(class_Circle.pi)"
   ]
  },
  {
   "cell_type": "markdown",
   "metadata": {},
   "source": [
    "2. Tracking data across of all instances"
   ]
  },
  {
   "cell_type": "code",
   "execution_count": 12,
   "metadata": {},
   "outputs": [
    {
     "name": "stdout",
     "output_type": "stream",
     "text": [
      "<bound method Circle_track.area of <__main__.Circle_track object at 0x000001B2C6008150>>\n",
      "<bound method Circle_track.area of <__main__.Circle_track object at 0x000001B2C50B7A90>>\n",
      "2\n"
     ]
    }
   ],
   "source": [
    "class Circle_track:\n",
    "    circle_list = []\n",
    "    pi = 3.14159\n",
    "\n",
    "    def __init__(self,radius):\n",
    "        self.radius = radius\n",
    "        # add the instance to circle list\n",
    "        self.circle_list.append(self)\n",
    "\n",
    "    def area(self):\n",
    "        return self.pi * self.radius**2\n",
    "\n",
    "    def circumference(self):\n",
    "        return 2 * self.pi * self.radius\n",
    "\n",
    "c1 = Circle_track(10)\n",
    "c2 = Circle_track(20)\n",
    "\n",
    "print(c1.area)\n",
    "print(c2.area)\n",
    "print(len(Circle_track.circle_list))"
   ]
  },
  {
   "cell_type": "markdown",
   "metadata": {},
   "source": [
    "3) Defining default values"
   ]
  },
  {
   "cell_type": "code",
   "execution_count": 13,
   "metadata": {},
   "outputs": [
    {
     "name": "stdout",
     "output_type": "stream",
     "text": [
      "100\n",
      "190.0\n"
     ]
    }
   ],
   "source": [
    "class Product:\n",
    "    default_discount = 0\n",
    "\n",
    "    def __init__(self,price):\n",
    "        self.price = price\n",
    "        self.discount = Product.default_discount\n",
    "\n",
    "    def set_discount(self,discount):\n",
    "        self.discount = discount\n",
    "\n",
    "    def net_price(self):\n",
    "        return self.price * (1 - self.discount)\n",
    "\n",
    "p1 = Product(100)\n",
    "print(p1.net_price())\n",
    "\n",
    "p2 = Product(200)\n",
    "p2.set_discount(0.05)\n",
    "print(p2.net_price())"
   ]
  },
  {
   "cell_type": "markdown",
   "metadata": {},
   "source": [
    "## Static Methods"
   ]
  },
  {
   "cell_type": "markdown",
   "metadata": {},
   "source": [
    "Unlike instance methods, static methods aren't bound to an object. Python doesn't implicitly pass cls argument to static methods, which cannot access or modify the class state. "
   ]
  },
  {
   "cell_type": "code",
   "execution_count": 14,
   "metadata": {},
   "outputs": [
    {
     "name": "stdout",
     "output_type": "stream",
     "text": [
      "95.0\n"
     ]
    }
   ],
   "source": [
    "class TemperatureConverter:\n",
    "    KEVIN = 'K',\n",
    "    FAHRENHEIT = \"F\",\n",
    "    CELSIUS = \"C\",\n",
    "\n",
    "    @staticmethod\n",
    "    def celsius_to_fahrenheit(c):\n",
    "        return 9 * c/5 + 32\n",
    "\n",
    "    @staticmethod\n",
    "    def fahrenheit_to_celsius(f):\n",
    "        return 5*(f-32)/9\n",
    "\n",
    "    @staticmethod\n",
    "    def celsius_to_kelvin(c):\n",
    "        return c + 273.15\n",
    "\n",
    "\n",
    "f = TemperatureConverter.celsius_to_fahrenheit(35)\n",
    "print(f)"
   ]
  }
 ],
 "metadata": {
  "kernelspec": {
   "display_name": "env1",
   "language": "python",
   "name": "python3"
  },
  "language_info": {
   "codemirror_mode": {
    "name": "ipython",
    "version": 3
   },
   "file_extension": ".py",
   "mimetype": "text/x-python",
   "name": "python",
   "nbconvert_exporter": "python",
   "pygments_lexer": "ipython3",
   "version": "3.11.3"
  },
  "orig_nbformat": 4
 },
 "nbformat": 4,
 "nbformat_minor": 2
}
