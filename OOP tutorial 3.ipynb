{
 "cells": [
  {
   "cell_type": "code",
   "execution_count": 3,
   "metadata": {},
   "outputs": [
    {
     "name": "stdout",
     "output_type": "stream",
     "text": [
      "<function Request.send at 0x00000263297B6950>\n",
      "<class 'function'>\n",
      "Sent\n"
     ]
    }
   ],
   "source": [
    "class Request:\n",
    "    def send():\n",
    "        print('Sent')\n",
    "\n",
    "print(Request.send)\n",
    "print(type(Request.send))\n",
    "Request.send()"
   ]
  },
  {
   "cell_type": "code",
   "execution_count": 7,
   "metadata": {},
   "outputs": [
    {
     "name": "stdout",
     "output_type": "stream",
     "text": [
      "<class '__main__.Request'>\n",
      "<class 'function'>\n"
     ]
    }
   ],
   "source": [
    "http_request = Request()\n",
    "print(type(http_request))\n",
    "print(type(Request.send))\n",
    "#http_request.send() TypeError: Request.send() takes 0 positional arguments but 1 was given"
   ]
  },
  {
   "cell_type": "code",
   "execution_count": 5,
   "metadata": {},
   "outputs": [
    {
     "name": "stdout",
     "output_type": "stream",
     "text": [
      "Sent ()\n"
     ]
    }
   ],
   "source": [
    "class Request:\n",
    "    def send(*args):\n",
    "        print('Sent', args)\n",
    "\n",
    "Request.send()"
   ]
  },
  {
   "cell_type": "code",
   "execution_count": 8,
   "metadata": {},
   "outputs": [
    {
     "name": "stdout",
     "output_type": "stream",
     "text": [
      "0x26327de37c0\n",
      "Sent (<__main__.Request object at 0x0000026327DE37C0>,)\n"
     ]
    }
   ],
   "source": [
    "print(hex(id(http_request)))\n",
    "http_request.send()"
   ]
  },
  {
   "cell_type": "code",
   "execution_count": 10,
   "metadata": {},
   "outputs": [
    {
     "name": "stdout",
     "output_type": "stream",
     "text": [
      "Sent (<__main__.Request object at 0x0000026327DE37C0>,)\n",
      "Sent (<__main__.Request object at 0x0000026327DE37C0>,)\n"
     ]
    }
   ],
   "source": [
    "# equivalent\n",
    "http_request.send()\n",
    "Request.send(http_request)\n"
   ]
  },
  {
   "cell_type": "code",
   "execution_count": null,
   "metadata": {},
   "outputs": [],
   "source": [
    "class Request:\n",
    "    def send(self):\n",
    "        print(\"Sent\", self)"
   ]
  },
  {
   "cell_type": "code",
   "execution_count": 11,
   "metadata": {},
   "outputs": [
    {
     "name": "stdout",
     "output_type": "stream",
     "text": [
      "I'm John. I'm 25 years old.\n"
     ]
    }
   ],
   "source": [
    "class Person:\n",
    "    def __init__(self, name, age):\n",
    "        self.name = name\n",
    "        self.age = age\n",
    "\n",
    "\n",
    "if __name__ == '__main__':\n",
    "    person = Person('John', 25)\n",
    "    print(f\"I'm {person.name}. I'm {person.age} years old.\")"
   ]
  }
 ],
 "metadata": {
  "kernelspec": {
   "display_name": "Python 3",
   "language": "python",
   "name": "python3"
  },
  "language_info": {
   "codemirror_mode": {
    "name": "ipython",
    "version": 3
   },
   "file_extension": ".py",
   "mimetype": "text/x-python",
   "name": "python",
   "nbconvert_exporter": "python",
   "pygments_lexer": "ipython3",
   "version": "3.10.6"
  },
  "orig_nbformat": 4
 },
 "nbformat": 4,
 "nbformat_minor": 2
}
