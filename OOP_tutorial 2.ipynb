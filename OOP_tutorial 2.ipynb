{
 "cells": [
  {
   "cell_type": "code",
   "execution_count": 1,
   "metadata": {},
   "outputs": [
    {
     "name": "stdout",
     "output_type": "stream",
     "text": [
      "HtmlDocument\n",
      "<class 'type'>\n",
      "True\n"
     ]
    }
   ],
   "source": [
    "class HtmlDocument:\n",
    "    pass\n",
    "\n",
    "print(HtmlDocument.__name__)\n",
    "print(type(HtmlDocument))\n",
    "print(isinstance(HtmlDocument, type))"
   ]
  },
  {
   "cell_type": "code",
   "execution_count": 2,
   "metadata": {},
   "outputs": [],
   "source": [
    "class HtmlDocument:\n",
    "    extension = 'html'\n",
    "    version = '5'"
   ]
  },
  {
   "cell_type": "code",
   "execution_count": 4,
   "metadata": {},
   "outputs": [
    {
     "name": "stdout",
     "output_type": "stream",
     "text": [
      "html\n",
      "5\n"
     ]
    }
   ],
   "source": [
    "print(HtmlDocument.extension)\n",
    "print(HtmlDocument.version)"
   ]
  },
  {
   "cell_type": "code",
   "execution_count": 7,
   "metadata": {},
   "outputs": [
    {
     "name": "stdout",
     "output_type": "stream",
     "text": [
      "html\n"
     ]
    }
   ],
   "source": [
    "extension = getattr(HtmlDocument, 'extension')\n",
    "print(extension)\n",
    "media_type = getattr(HtmlDocument, 'media_type', 'text/html')"
   ]
  },
  {
   "cell_type": "code",
   "execution_count": 8,
   "metadata": {},
   "outputs": [],
   "source": [
    "#HtmlDocument.version = 10\n",
    "setattr(HtmlDocument, 'version', 10)\n",
    "delattr(HtmlDocument, 'version')\n",
    "#del HtmlDocument.version"
   ]
  },
  {
   "cell_type": "code",
   "execution_count": 1,
   "metadata": {},
   "outputs": [
    {
     "name": "stdout",
     "output_type": "stream",
     "text": [
      "mappingproxy({'__dict__': <attribute '__dict__' of 'HtmlDocument' objects>,\n",
      "              '__doc__': None,\n",
      "              '__module__': '__main__',\n",
      "              '__weakref__': <attribute '__weakref__' of 'HtmlDocument' objects>,\n",
      "              'extension': 'html',\n",
      "              'media_type': 'text/html',\n",
      "              'version': '5'})\n",
      "html\n",
      "5\n"
     ]
    }
   ],
   "source": [
    "from pprint import pprint\n",
    "\n",
    "class HtmlDocument:\n",
    "    extension = 'html'\n",
    "    version = '5'\n",
    "\n",
    "HtmlDocument.media_type = 'text/html'\n",
    "pprint(HtmlDocument.__dict__)\n",
    "print(HtmlDocument.extension)\n",
    "print(HtmlDocument.version)"
   ]
  },
  {
   "cell_type": "code",
   "execution_count": 3,
   "metadata": {},
   "outputs": [
    {
     "name": "stdout",
     "output_type": "stream",
     "text": [
      "{}\n",
      "<class 'dict'>\n"
     ]
    }
   ],
   "source": [
    "home = HtmlDocument()\n",
    "pprint(home.__dict__)\n",
    "print(type(home.__dict__))"
   ]
  },
  {
   "cell_type": "code",
   "execution_count": 4,
   "metadata": {},
   "outputs": [
    {
     "name": "stdout",
     "output_type": "stream",
     "text": [
      "html\n",
      "5\n"
     ]
    }
   ],
   "source": [
    "print(HtmlDocument.extension)\n",
    "print(HtmlDocument.version)"
   ]
  },
  {
   "cell_type": "code",
   "execution_count": 6,
   "metadata": {},
   "outputs": [
    {
     "name": "stdout",
     "output_type": "stream",
     "text": [
      "{'version': 6}\n",
      "6\n"
     ]
    }
   ],
   "source": [
    "home.version = 6\n",
    "print(home.__dict__)\n",
    "print(home.version)"
   ]
  },
  {
   "cell_type": "code",
   "execution_count": 7,
   "metadata": {},
   "outputs": [
    {
     "name": "stdout",
     "output_type": "stream",
     "text": [
      "text/html\n"
     ]
    }
   ],
   "source": [
    "HtmlDocument.media_type = 'text/html'\n",
    "print(home.media_type)"
   ]
  },
  {
   "cell_type": "code",
   "execution_count": 12,
   "metadata": {},
   "outputs": [
    {
     "name": "stdout",
     "output_type": "stream",
     "text": [
      "5\n"
     ]
    }
   ],
   "source": [
    "class HtmlDocument:\n",
    "    extension = 'html'\n",
    "    version = '5'\n",
    "\n",
    "    def __init__(self, name, contents):\n",
    "        self.name = name\n",
    "        self.contents = contents\n",
    "\n",
    "\n",
    "blank = HtmlDocument('Blank', '')\n",
    "\n",
    "print(blank.version)"
   ]
  }
 ],
 "metadata": {
  "kernelspec": {
   "display_name": "Python 3",
   "language": "python",
   "name": "python3"
  },
  "language_info": {
   "codemirror_mode": {
    "name": "ipython",
    "version": 3
   },
   "file_extension": ".py",
   "mimetype": "text/x-python",
   "name": "python",
   "nbconvert_exporter": "python",
   "pygments_lexer": "ipython3",
   "version": "3.10.6"
  },
  "orig_nbformat": 4
 },
 "nbformat": 4,
 "nbformat_minor": 2
}
